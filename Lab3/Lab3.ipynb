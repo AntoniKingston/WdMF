{
 "cells": [
  {
   "cell_type": "code",
   "id": "initial_id",
   "metadata": {
    "collapsed": true,
    "ExecuteTime": {
     "end_time": "2025-04-01T12:38:53.160605Z",
     "start_time": "2025-04-01T12:38:52.715047Z"
    }
   },
   "source": "from crr_model import *",
   "outputs": [],
   "execution_count": 1
  },
  {
   "metadata": {
    "ExecuteTime": {
     "end_time": "2025-04-01T12:38:53.657672Z",
     "start_time": "2025-04-01T12:38:53.650965Z"
    }
   },
   "cell_type": "code",
   "source": [
    "u = 1.1\n",
    "d = 0.9\n",
    "r = 0.05\n",
    "T = 5\n",
    "S0 = 100\n",
    "pstar = (1 + r - d) / (u - d)\n",
    "model = CRRModel(u, d, r, T, S0)"
   ],
   "id": "7bec4b3d7b5659fd",
   "outputs": [],
   "execution_count": 2
  },
  {
   "metadata": {},
   "cell_type": "markdown",
   "source": "## Europejska call",
   "id": "6652f1e3da6ec31f"
  },
  {
   "metadata": {
    "ExecuteTime": {
     "end_time": "2025-04-01T12:38:54.613683Z",
     "start_time": "2025-04-01T12:38:54.603378Z"
    }
   },
   "cell_type": "code",
   "source": [
    "strike = 125\n",
    "instrument = EuropeanCall(strike)\n",
    "print(\"Wartość teoretyczna:\")\n",
    "print((1+r)**(-T) * sum([math.comb(T,i) * (pstar**i) * ((1-pstar)**(T-i)) * max((S0 * (u**i) * (d**(T-i))) - strike,0) for i in range(T+1)]))\n",
    "print(\"Wartość obliczona dzięki modelowi:\")\n",
    "print(model.price_instrument(instrument))\n",
    "##Są pewne różnice numeryczne"
   ],
   "id": "b6f3111053d60872",
   "outputs": [
    {
     "name": "stdout",
     "output_type": "stream",
     "text": [
      "Wartość teoretyczna:\n",
      "8.800772495587177\n",
      "Wartość obliczona dzięki modelowi:\n",
      "8.800772495587188\n"
     ]
    }
   ],
   "execution_count": 3
  },
  {
   "metadata": {},
   "cell_type": "markdown",
   "source": "## Europejska put",
   "id": "d83bc1b5c2d12a07"
  },
  {
   "metadata": {
    "ExecuteTime": {
     "end_time": "2025-04-01T12:38:55.982182Z",
     "start_time": "2025-04-01T12:38:55.973915Z"
    }
   },
   "cell_type": "code",
   "source": [
    "strike = 125\n",
    "instrument = EuropeanPut(strike)\n",
    "print(\"Wartość teoretyczna:\")\n",
    "print((1+r)**(-T) * sum([math.comb(T,i) * (pstar**i) * ((1-pstar)**(T-i)) * max(strike - (S0 * (u**i) * (d**(T-i))),0) for i in range(T+1)]))\n",
    "print(\"Wartość obliczona dzięki modelowi:\")\n",
    "print(model.price_instrument(instrument))"
   ],
   "id": "72258d051f459464",
   "outputs": [
    {
     "name": "stdout",
     "output_type": "stream",
     "text": [
      "Wartość teoretyczna:\n",
      "6.741543304144527\n",
      "Wartość obliczona dzięki modelowi:\n",
      "6.741543304144528\n"
     ]
    }
   ],
   "execution_count": 4
  },
  {
   "metadata": {},
   "cell_type": "markdown",
   "source": "## Maksimum po trajektorii",
   "id": "19eede2c8ee593d7"
  },
  {
   "metadata": {
    "ExecuteTime": {
     "end_time": "2025-04-01T12:39:07.543367Z",
     "start_time": "2025-04-01T12:39:07.536831Z"
    }
   },
   "cell_type": "code",
   "source": [
    "instrument = MaximumInstrument()\n",
    "print(\"Wartość obliczona dzięki modelowi:\")\n",
    "print(model.price_instrument(instrument))"
   ],
   "id": "c8d7884f31106d24",
   "outputs": [
    {
     "name": "stdout",
     "output_type": "stream",
     "text": [
      "Wartość obliczona dzięki modelowi:\n",
      "104.26340154173462\n"
     ]
    }
   ],
   "execution_count": 5
  },
  {
   "metadata": {},
   "cell_type": "code",
   "outputs": [],
   "execution_count": null,
   "source": "",
   "id": "23b92b9738800de7"
  }
 ],
 "metadata": {
  "kernelspec": {
   "display_name": "Python 3",
   "language": "python",
   "name": "python3"
  },
  "language_info": {
   "codemirror_mode": {
    "name": "ipython",
    "version": 2
   },
   "file_extension": ".py",
   "mimetype": "text/x-python",
   "name": "python",
   "nbconvert_exporter": "python",
   "pygments_lexer": "ipython2",
   "version": "2.7.6"
  }
 },
 "nbformat": 4,
 "nbformat_minor": 5
}
